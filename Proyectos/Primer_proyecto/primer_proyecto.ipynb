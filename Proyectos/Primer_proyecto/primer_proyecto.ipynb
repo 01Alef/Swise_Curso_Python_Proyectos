{
  "nbformat": 4,
  "nbformat_minor": 0,
  "metadata": {
    "colab": {
      "name": "primer_proyecto.ipynb",
      "provenance": [],
      "collapsed_sections": []
    },
    "kernelspec": {
      "name": "python3",
      "display_name": "Python 3"
    }
  },
  "cells": [
    {
      "cell_type": "markdown",
      "metadata": {
        "id": "cDTQNOjzZ64_",
        "colab_type": "text"
      },
      "source": [
        "# Primer Proyecto: : Lanzamiento de proyectiles con cinemática\n"
      ]
    },
    {
      "cell_type": "markdown",
      "metadata": {
        "id": "hqsWoOzvaYy3",
        "colab_type": "text"
      },
      "source": [
        "**Descripción general de la teoría: Cinemática en 2D**\n",
        "\n",
        "Las leyes del movimiento de Newton permiten predecir el movimiento entero de un cuerpo al que se le conoce las fuerzas que le actúan (recuerden, el famoso $ F = ma $ ). Existe un caso muy especial en el cual la *ÚNICA* fuerza involucrada es constante y en una sola dirección. A esto se le conoce como cinemática y se caracteriza parcialmente por la siguiente ecuación:\n",
        "\n",
        "$$\n",
        "y(t) = y_0 + v_{y_0} t + \\frac{at²}{2}\n",
        "$$\n",
        "\n",
        "Esta ecuación describe la **evolución** de la altura, \"$y$\", de una partícula (por ejemplo, una pelota) en cualquier tiempo $t$ luego de estar en cierto \"estado inicial\" ($y_0$, $v_{y_0}$) en el tiempo $t = 0$. Es decir, lo que sucede cuando lanzan una pelota hacia el cielo (movimiento **meramente horizontal**), subiendo inicialmente, y luego bajando hasta llegar al suelo.\n",
        "\n",
        "Pero... ¿Qué pasa si la pelota no la lanzo hacia el cielo si no que hacia adelante? Entonces existe otra ecuación que describe ese movimiento horizonal:\n",
        "\n",
        "$$\n",
        "x(t) = x_0 + v_{x_0} t\n",
        "$$\n",
        "\n",
        "Notemos que en este caso no tenemos un término de aceleración pues, como ya comentado, la aceleración ocurre **sólo en una dirección** y el eje $y$ fue elegido para concordar con ésta. Para juntar ambas ecuaciones definimos un objeto $\\vec{r}$ como un vector $\\vec{r}(t) = (x(t), y(t))$ en todo tiempo $t$. Es decir, una función vectorial. En este caso, el estado inicial se resume también como vectores:\n",
        "* Posición inicial: $r_0 = (x_0, y_0)$\n",
        "* Velocidad inicial: $v_0 = (v_{x_0}, v_{y_0})$\n",
        "* Estado total inicial: $(r_0, v_0)$\n",
        "\n",
        "\n",
        "**Planteamiento del problema a resolver**\n",
        "\n",
        "A continuación se presentan tres puntos a tratar en el proyecto: El inciso 1 describe algo que es **OBLIGATORIO** que exista en el programa de todos los participantes. El inciso 2 describe una lista de posibles tareas de las cuales cada integrante debe elegir al menos una y programarla (La evaluación va a ser individual aunque pueden compartir ideas entre su propio grupo). Además, pueden añadir a su creatividad tareas similares: La única penintencia es no ser creativos. La creatividad sobresalientee incluso se premiará.\n",
        "\n",
        "El inciso 3 contiene una lista de problemas retadores completamente OPCIONALES pero los grupos que logren hacer al menos alguno de ellos serán recompensados con mayor peso de votación en decidir el proyecto final. \n",
        "\n",
        "1. Cree funciones para todos los objetos fundamentales: $x(t)$, $y(t)$, $\\vec{r}(t)$.\n",
        "2. Crear alguna función que responda una o más de preguntas como las siguientes (al menos una por integrante):\n",
        "   * ¿En qué tiempo $t$ una pelota (definida por su estado inicial $(r_0, v_0)$) cae al suelo? ¿Qué tal si lo que queremos es que caiga sobre una repisa de altura $h$?\n",
        "   * Escriba una función que calcule la velocidad del proyectil en todo tiempo y devuelva el porcentaje que esa velocidad representa respecto a la velocidad inicial $v_0$.\n",
        "   * ¿Cuál es la altura máxima que alcanza la pelota? ¿En qué tiempo la alcanzó?\n",
        "   * ¿A qué ángulo $\\theta$ debemos colocar el cañón (situado en el origen $(0,0)$) para que la bala destruya el castillo enemigo en un punto $(p_x, p_y)$ y dimensiones $h \\times w$?\n",
        "   * Si un jugador de baseball quiere agarrar la pelota antes de que caiga al suelo ¿Cuándo debe empezar a correr? Asumiendo que comienza en el suelo, unos $m$ metros adelante de la pelota, y quieto. Es decir: $r_0 = (x_0 + m, 0)$ y $v_0 = (0,0)$.\n",
        "   * ¿Qué pasa si la aceleración ahora cambia en el tiempo, $a(t)$? Por ejemplo, en algún marco de referencia mientras un acensor de mueve.\n",
        "   * Si conoce el punto y tiempo de disparo del proyectil y punto y tiempo de caída al suelo, ¿Puede encontrar la velocidad inicial $v_0 = (v_{x_0}, v_{y_0})$ con la cual fue disparado? Si es así, programelo. Si no, indique lo que hace falta, y utilícelo para un programa que lo calcule.\n",
        "   * Si la gravedad no estuviese alineada con el eje $y$, si no que en cualquier otra dirección, calcule la trayectoria.\n",
        "   * Cualquier otra aplicación suficientemente creativa...\n",
        "3. **Challenge problems:** Los integrantes del grupo que presenten la mejor solución a alguno de estos problemas ganará un punto más en su votación hacia el tercer proyecto. \"Resolver el problema\" significa crear un programa .py o un Jupyter notebook que muestre la solución a alguno de los siguientes problemas:\n",
        "   * (**MATEMÁTICAS**) El ángulo al cual un cañón puede disparar en contra de una fortaleza a una distancia de $m$ metros oscila entre $0$ y $\\pi/2$ radianes. Imagine que el cañón dispara aleatoriamente acorde a una distribución normal (con media $\\mu$ y desviación estándar $\\sigma$ ingresadas por el usuario) truncada al intervalo $[0, \\pi/2]$ (ver [este post][1]). \n",
        "     ¿Cuál es la altura $h$ óptima a la cual usted debe colocarse en la fortaleza para minizar la probabilidad de ser golpeado? ¿Hay varias soluciones $h$? ¿Bajo qué condiciones?\n",
        "     \n",
        "   * (**COMPUTACIÓN**) Un vecino de su cuadra se ha inventado un cohete espacial que parece desafiar las leyes de la física. Este cohete se dispara como un proyectil (con trayectoria $r_1(t)$) desde el suelo con alguna velocidad inicial, pero luego de cierto tiempo $t_1$ de estar volando, se abre y dispara un segundo cohete más pequeño, al cual comienza a volar como proyectil como si su suelo fuese el punto $r_1(t_1)$. \n",
        "     \n",
        "     Este segundo proyectil, con trayectoria $r_2(t)$ vuela de nuevo hasta un tiempo $t_2 > t_1$ y deja salir un tercer cohete. Esto se repite $n$ veces con $n$ ingresado por el usuario. Programe una función recursiva que devuelva la posición del último cohete en cualquier tiempo $t$ y describa su complejidad algorítmica $\\mathcal{O}(f(n))$.\n",
        "     \n",
        "   * (**MATEMÁTICAS**) Imagine que le dan una trayectoria fija $r_1(t) = (x_1(t), y_1(t))$ de un proyectil y una altura fija $y_{\\text{fija}}$. Construya una función que devuelva otra trayectoria $r_2(t)$ con distancia horizontal inicial $x_0 = x_1(0)$ y altura inicial $y_{\\text{fija}}$ tal que exista un tiempo $t_{\\text{col}}$ en que ambos proyectiles colisionen.\n",
        "   \n",
        "   * (**FÍSICA**) Programe su tarea selecta del inciso 2 utilizando arrástre lineal y cuadrático y en n dimensiones, con n ingresado por el usuario.\n",
        "   \n",
        "   \n",
        "\n",
        "\n",
        "[1]: https://en.wikipedia.org/wiki/Truncated_normal_distribution#Definitions"
      ]
    },
    {
      "cell_type": "markdown",
      "metadata": {
        "id": "ca9aGN5mUUp5",
        "colab_type": "text"
      },
      "source": [
        "**Librerias y funciones a utilizar:**"
      ]
    },
    {
      "cell_type": "markdown",
      "metadata": {
        "id": "b8Ud5tsCUunJ",
        "colab_type": "text"
      },
      "source": [
        "Librerias:"
      ]
    },
    {
      "cell_type": "code",
      "metadata": {
        "id": "K4IJ88aJUjRA",
        "colab_type": "code",
        "colab": {}
      },
      "source": [
        "import numpy as np\n",
        "import matplotlib.pyplot as plt"
      ],
      "execution_count": null,
      "outputs": []
    },
    {
      "cell_type": "markdown",
      "metadata": {
        "id": "Pybylq22UxPc",
        "colab_type": "text"
      },
      "source": [
        "Funciones para nuestros objetos básicos:"
      ]
    },
    {
      "cell_type": "code",
      "metadata": {
        "id": "88pbsGNwU17K",
        "colab_type": "code",
        "colab": {}
      },
      "source": [
        "def comp_y(y0, vy0, t, a = -9.8):\n",
        "    result = y0 + vy0*t + a*t**2/2\n",
        "    return(result)\n",
        "\n",
        "def comp_x(x0, vx0, t):\n",
        "    result = x0 + vx0*t\n",
        "    return(result)    \n",
        "\n",
        "t = np.arange(0,5,0.1) \n",
        "\n",
        "def trayectoria(x0, y0, vx0, vy0, t, a = -9.8):\n",
        "    y = comp_y(y0, vy0, t, a)\n",
        "    x = comp_x(x0, vx0, t)\n",
        "    return(x,y)\n",
        "    "
      ],
      "execution_count": null,
      "outputs": []
    },
    {
      "cell_type": "markdown",
      "metadata": {
        "id": "_BEnzlCCbEYH",
        "colab_type": "text"
      },
      "source": [
        "### **A partir de aqui se va a empezar el codigo, cada quien debe subir la solución de su problema y especificar el nombre antes del código:** "
      ]
    },
    {
      "cell_type": "markdown",
      "metadata": {
        "id": "iEvYyqG2b9Qa",
        "colab_type": "text"
      },
      "source": [
        "**Allan Enrique Pineda, a partir de aquí mi solución:**"
      ]
    },
    {
      "cell_type": "markdown",
      "metadata": {
        "id": "bgO43EJqsNNF",
        "colab_type": "text"
      },
      "source": [
        "**Problema 7:** Si conoce el punto y tiempo de disparo del proyectil y punto y tiempo de caída al suelo, ¿Puede encontrar la velocidad inicial $v_0 = (v_{x_0}, v_{y_0})$ con la cual fue disparado? Si es así, programelo. Si no, indique lo que hace falta, y utilícelo para un programa que lo calcule.\n"
      ]
    },
    {
      "cell_type": "markdown",
      "metadata": {
        "id": "49wWpVD_z0w8",
        "colab_type": "text"
      },
      "source": [
        "**Solución:** Los puntos iniciales y finales son conocidos, son ingresados por el usuario, tambien el tiempo incial y final, de igual forma son ingresados por el usuario, luego se crea una funcion que calcula la el vector velocidad inicial, $v_{o} = (v_{x_o}, v_{y_o}) $, también se toman las siguientes ecuaciones y se crean funciones de ellas:\n",
        "\n",
        "$$v_x = \\frac{x_f - x_i}{t_f - t_i} $$\n",
        "\n",
        "$$v_y = \\frac{y_f - y_i}{t_f - t_i} $$\n",
        "\n",
        "Donde $(x_i, y_i)$, $(x_f, y_f)$ son los puntos espaciales iniciales y finales, siendo $(t_i, t_f)$ el tiempo inicial y final, luego para obterner lo requerido, se usan las siguientes relaciones:\n",
        "\n",
        "$$v_x = v_{x_o} $$\n",
        "\n",
        "$$v_y = v_{y_o} + g(t-t_o) $$\n",
        "\n",
        "Por tanto, se calculan las componentes de la velocidad $(v_{x_0}, v_{y_0})$ de la siguiente manera:\n",
        "\n",
        "$$v_{x_o} = v_x $$\n",
        "\n",
        "$$v_{y_o} = v_y - g(t-t_o)$$\n",
        "\n",
        "Luego, se usan las relaciones anteriores para calcular la velocidad inicial $v_o = (v_{x_o}, v_{y_o})$\n",
        "\n"
      ]
    },
    {
      "cell_type": "code",
      "metadata": {
        "id": "sKbD8dsRcNmp",
        "colab_type": "code",
        "colab": {
          "base_uri": "https://localhost:8080/",
          "height": 221
        },
        "outputId": "f21a47de-620b-4a1e-f911-fc0840caacb7"
      },
      "source": [
        "#se pide los elementos del vector de posicion inicial:\n",
        "punto_inicial = []\n",
        "for inicial in range(2):\n",
        "    if inicial == 0:\n",
        "        comp_r_i = float(input(\"Ingrese el valor inicial de la componente x (en metros),  x_o: \"))\n",
        "    else:\n",
        "        comp_r_i = float(input(\"Ingrese el valor inicial de la componente y (en metros),  y_o: \"))\n",
        "\n",
        "    punto_inicial.append(comp_r_i)\n",
        "\n",
        "#se pide los elementos del vector de posicion final:\n",
        "punto_final = []\n",
        "\n",
        "for final in range(2):\n",
        "    if final == 0:\n",
        "        comp_r_f = float(input(\"Ingrese el valor final de la componente x (en metros),  x_f: \"))\n",
        "    else:\n",
        "        comp_r_f = float(input(\"Ingrese el valor final de la componente y (en metros),  y_f: \"))\n",
        "\n",
        "    punto_final.append(comp_r_f)\n",
        "\n",
        "#se pide los tiempos iniciales y finales:\n",
        "tiempo = []\n",
        "\n",
        "for time in range(2):\n",
        "\n",
        "    if time == 0:\n",
        "        t = float(input(\"Ingrese el tiempo inicial: \"))\n",
        "    else:\n",
        "        t = float(input(\"Ingrese el tiempo final: \"))\n",
        "\n",
        "    tiempo.append(t)\n",
        "\n",
        "\n",
        "print(\"Parámetros ingresados:\")\n",
        "print(f\"Punto inicial (en metros) ingresado: {punto_inicial}\")\n",
        "print(f\"Punto final (en metros) ingresado: {punto_final}\")\n",
        "print(f\"Tiempo inicial (en segundos) ingresado: {tiempo[0]}\")\n",
        "print(f\"Tiempo final (en segundos) ingresado: {tiempo[1]}\")\n",
        "\n",
        "# Funciones\n",
        "\n",
        "# Velocidad en x e y dados el punto inicial y final\n",
        "\n",
        "def velocidad_x(inicial, final, times):\n",
        "    v_x = (final[0] - inicial[0])/(times[1] - times[0])\n",
        "    return(v_x)\n",
        "\n",
        "def velocidad_y(inicial, final, times):\n",
        "    v_y = (final[1] - inicial[1])/(times[1] - times[0])\n",
        "    return(v_y)\n",
        "\n",
        "# La funcion que calcula el vector velocidad inicial:    \n",
        "\n",
        "def velocidad_inicial(inicial, final, times, g = -9.8):\n",
        "    v_xo = velocidad_x(inicial, final, times)\n",
        "    v_yo = velocidad_y(inicial, final, times) - g*(times[1] - times[0])\n",
        "    return(v_xo, v_yo)\n",
        "\n",
        "velocidad_i = velocidad_inicial(punto_inicial, punto_final, tiempo)  \n",
        "\n",
        "print(f\"La velocidad inicial es: {velocidad_i}\")"
      ],
      "execution_count": 25,
      "outputs": [
        {
          "output_type": "stream",
          "text": [
            "Ingrese el valor inicial de la componente x (en metros),  x_o: 0.4\n",
            "Ingrese el valor inicial de la componente y (en metros),  y_o: 19.804\n",
            "Ingrese el valor final de la componente x (en metros),  x_f: 0.6000000000000001\n",
            "Ingrese el valor final de la componente y (en metros),  y_f: 22.059\n",
            "Ingrese el tiempo inicial: 0.2\n",
            "Ingrese el tiempo final: 0.3\n",
            "Parámetros ingresados:\n",
            "Punto inicial (en metros) ingresado: [0.4, 19.804]\n",
            "Punto final (en metros) ingresado: [0.6000000000000001, 22.059]\n",
            "Tiempo inicial (en segundos) ingresado: 0.2\n",
            "Tiempo final (en segundos) ingresado: 0.3\n",
            "La velocidad inicial es: (2.0000000000000013, 23.53000000000003)\n"
          ],
          "name": "stdout"
        }
      ]
    },
    {
      "cell_type": "markdown",
      "metadata": {
        "id": "CeP1w2HMsDMg",
        "colab_type": "text"
      },
      "source": [
        "**Iñaqui Bonilla, a partir de aqui mi parte:** "
      ]
    },
    {
      "cell_type": "markdown",
      "metadata": {
        "id": "V9mv5NROc1gP",
        "colab_type": "text"
      },
      "source": [
        "**Problema # 1** ¿En qué tiempo  t  una pelota (definida por su estado inicial  $(r0,v0)$ ) cae al suelo? ¿Qué tal si lo que queremos es que caiga sobre una repisa de altura  $h$ ?"
      ]
    },
    {
      "cell_type": "markdown",
      "metadata": {
        "id": "XkGaSzVbdhvo",
        "colab_type": "text"
      },
      "source": [
        "Para que caiga al suelo, significa que $y = 0$ entonces de las función de $y$ :\n",
        "$$0 = y_0 + v_{y0}t + \\frac{at^2}{2}$$\n",
        "\n",
        "Despejando para t nos queda:\n",
        "\n",
        "$$t = \\frac{-v_{y0} \\pm \\sqrt{v_{y0}^2 - 2ay_0}}{a}$$\n",
        "\n",
        "Donde $a =-9.8$"
      ]
    },
    {
      "cell_type": "code",
      "metadata": {
        "id": "f1KeBUzGsD1X",
        "colab_type": "code",
        "colab": {
          "base_uri": "https://localhost:8080/",
          "height": 204
        },
        "outputId": "00098ee3-3f8b-41b8-9927-a7be99ab82c0"
      },
      "source": [
        "print(\"Ingrese los valores de 'r' \")\n",
        "r = [int(input(\"Ingrese el valor de Xo:  \")) , int(input(\"Ingrese el valor de Yo:  \"))]\n",
        "print(f\"r = ({r[0]} , {r[1]})\")\n",
        "\n",
        "print(\"Ingrese los valores de 'v' \")\n",
        "v = [int(input(\"Ingrese el valor de Vxo:  \")) , int(input(\"Ingrese el valor de Vyo:  \"))]\n",
        "print(f\"v = ({v[0]} , {v[1]})\")\n",
        "\n",
        "print(\"Posibles valores de t \")\n",
        "t1 = (-v[1] + (v[1]**2 - 2*(-9.8)*r[1])**(1/2))/-9.8\n",
        "t2 = (-v[1] - (v[1]**2 - 2*(-9.8)*r[1])**(1/2))/-9.8\n",
        "\n",
        "print(f\"t1 = {t1} , t2 = {t2}\")\n",
        "print(\"Cogemos el valor positivo.\")"
      ],
      "execution_count": null,
      "outputs": [
        {
          "output_type": "stream",
          "text": [
            "Ingrese los valores de 'r' \n",
            "Ingrese el valor de Xo:  1\n",
            "Ingrese el valor de Yo:  2\n",
            "r = (1 , 2)\n",
            "Ingrese los valores de 'v' \n",
            "Ingrese el valor de Vxo:  3\n",
            "Ingrese el valor de Vyo:  4\n",
            "v = (3 , 4)\n",
            "Posibles valores de t \n",
            "t1 = -0.3499663518778249 , t2 = 1.1662928824900696\n",
            "Cogemos el valor positivo.\n"
          ],
          "name": "stdout"
        }
      ]
    },
    {
      "cell_type": "markdown",
      "metadata": {
        "id": "cMsUj6kRdTK7",
        "colab_type": "text"
      },
      "source": [
        "Para que caiga a una altura $h$:\n",
        "$$h = y_0 + v_{y0}t + \\frac{at^2}{2}$$\n",
        "\n",
        "Despejando para t nos queda:\n",
        "\n",
        "$$t = \\frac{-v_{y0} \\pm \\sqrt{v_{y0}^2 - 2a(y_0 - h)}}{a}$$"
      ]
    },
    {
      "cell_type": "code",
      "metadata": {
        "id": "ljrPAr8EdXaR",
        "colab_type": "code",
        "colab": {
          "base_uri": "https://localhost:8080/",
          "height": 51
        },
        "outputId": "fe978d34-0d04-40d0-ec6d-776ebfbff7e1"
      },
      "source": [
        "h = int(input(\"Ingrese valor de h:  \"))\n",
        "\n",
        "if v[1]**2 - 2*(-9.8)*(r[1] - h) < 0:\n",
        "    print(\"Error. tenemos un tiempo imaginario.\")\n",
        "else:\n",
        "    t3 = (-v[1] + (v[1]**2 - 2*(-9.8)*(r[1] - h))**(1/2))/-9.8\n",
        "    t4 = (-v[1] - (v[1]**2 - 2*(-9.8)*(r[1] - h))**(1/2))/-9.8\n",
        "    print(\"Los nuevos valores de t \")\n",
        "    print(f\" t1 = {t3} , t2 = {t4}\")\n",
        "    print(\"Cogemos el valor positivo.\")"
      ],
      "execution_count": null,
      "outputs": [
        {
          "output_type": "stream",
          "text": [
            "Ingrese valor de h:  18\n",
            "Error. tenemos un tiempo imaginario.\n"
          ],
          "name": "stdout"
        }
      ]
    },
    {
      "cell_type": "markdown",
      "metadata": {
        "id": "nO4twmupFU5B",
        "colab_type": "text"
      },
      "source": [
        "\n",
        "**CHRISTIAN ARGUETA, desde aqui va mi código:**\n",
        "\n"
      ]
    },
    {
      "cell_type": "markdown",
      "metadata": {
        "id": "YkxC3ur5FnHr",
        "colab_type": "text"
      },
      "source": [
        "Problema #2\n",
        "\n",
        "Escriba una función que calcule la velocidad del proyectil en todo tiempo y devuelva el porcentaje que esa velocidad representa respecto a la velocidad inicial v0.\n",
        "\n",
        "el usuario debe ingresar la velocidad inicial, la gravedad, el angulo alpha y el tiempo, con estos datros podremos encontrar la velocidad en todo tiempo del proyectil\n",
        "V= a la velocidad inicial "
      ]
    },
    {
      "cell_type": "code",
      "metadata": {
        "id": "92K5xNzzF2Qu",
        "colab_type": "code",
        "colab": {
          "base_uri": "https://localhost:8080/",
          "height": 238
        },
        "outputId": "76f7366a-ad01-4515-d3e9-9ef82eed75d6"
      },
      "source": [
        "import numpy as np\n",
        "# funcion para calcular la velocidad en todo tiempo##\n",
        "\n",
        "def velo_copa():\n",
        "    print(\"ingrese los valores\")\n",
        "    V= float(input(\"v = \"))\n",
        "    t= float(input(\"t = \"))\n",
        "    g= float(input(\"g = \"))\n",
        "    alpha= float(input(\"alpha = \"))\n",
        "\n",
        "    print(\"mi velocidad en x es\")\n",
        "    velo_x = (V*np.cos(alpha))*t\n",
        "    print(velo_x)\n",
        "    print(\"mi velocidad en y es\")\n",
        "    velo_y = V*np.sin(alpha) + g*t\n",
        "    print(velo_y)\n",
        "\n",
        "    print(\"la velocidad en todo tiempo (en segundos) es:\")\n",
        "\n",
        "    velocidad = np.sqrt((velo_x)**2 + (velo_y)**2)\n",
        "\n",
        "    print(velocidad)\n",
        "\n",
        "    print(\"comparacion con la velocidad inicial del proyectil\")\n",
        "    porcentaje = (V/velocidad)*100\n",
        "    return(porcentaje)\n",
        "\n",
        "print(velo_copa(),\"%\")"
      ],
      "execution_count": null,
      "outputs": [
        {
          "output_type": "stream",
          "text": [
            "ingrese los valores\n",
            "v = 1\n",
            "t = 3\n",
            "g = 9.8\n",
            "alpha = 12\n",
            "mi velocidad en x es\n",
            "2.5315618761974763\n",
            "mi velocidad en y es\n",
            "28.863427081999568\n",
            "la velocidad en todo tiempo (en segundos) es:\n",
            "28.974233871681967\n",
            "comparacion con la velocidad inicial del proyectil\n",
            "3.451342335499515 %\n"
          ],
          "name": "stdout"
        }
      ]
    },
    {
      "cell_type": "markdown",
      "metadata": {
        "id": "PwwojkCBcTOx",
        "colab_type": "text"
      },
      "source": [
        "SU NOMBRE, A PARTIR DE AQUI VA SU CODIGO:"
      ]
    },
    {
      "cell_type": "code",
      "metadata": {
        "id": "GiZK3ur0cavJ",
        "colab_type": "code",
        "colab": {}
      },
      "source": [
        "# Aqui va su codigo"
      ],
      "execution_count": null,
      "outputs": []
    }
  ]
}