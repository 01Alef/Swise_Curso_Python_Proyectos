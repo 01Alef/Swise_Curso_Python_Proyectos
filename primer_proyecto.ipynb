{
  "nbformat": 4,
  "nbformat_minor": 0,
  "metadata": {
    "colab": {
      "name": "primer_proyecto.ipynb",
      "provenance": [],
      "collapsed_sections": []
    },
    "kernelspec": {
      "name": "python3",
      "display_name": "Python 3"
    }
  },
  "cells": [
    {
      "cell_type": "markdown",
      "metadata": {
        "id": "cDTQNOjzZ64_",
        "colab_type": "text"
      },
      "source": [
        "# Primer Proyecto: : Lanzamiento de proyectiles con cinemática\n"
      ]
    },
    {
      "cell_type": "markdown",
      "metadata": {
        "id": "hqsWoOzvaYy3",
        "colab_type": "text"
      },
      "source": [
        "**Descripción general de la teoría: Cinemática en 2D**\n",
        "\n",
        "Las leyes del movimiento de Newton permiten predecir el movimiento entero de un cuerpo al que se le conoce las fuerzas que le actúan (recuerden, el famoso $ F = ma $ ). Existe un caso muy especial en el cual la *ÚNICA* fuerza involucrada es constante y en una sola dirección. A esto se le conoce como cinemática y se caracteriza parcialmente por la siguiente ecuación:\n",
        "\n",
        "$$\n",
        "y(t) = y_0 + v_{y_0} t + \\frac{at²}{2}\n",
        "$$\n",
        "\n",
        "Esta ecuación describe la **evolución** de la altura, \"$y$\", de una partícula (por ejemplo, una pelota) en cualquier tiempo $t$ luego de estar en cierto \"estado inicial\" ($y_0$, $v_{y_0}$) en el tiempo $t = 0$. Es decir, lo que sucede cuando lanzan una pelota hacia el cielo (movimiento **meramente horizontal**), subiendo inicialmente, y luego bajando hasta llegar al suelo.\n",
        "\n",
        "Pero... ¿Qué pasa si la pelota no la lanzo hacia el cielo si no que hacia adelante? Entonces existe otra ecuación que describe ese movimiento horizonal:\n",
        "\n",
        "$$\n",
        "x(t) = x_0 + v_{x_0} t\n",
        "$$\n",
        "\n",
        "Notemos que en este caso no tenemos un término de aceleración pues, como ya comentado, la aceleración ocurre **sólo en una dirección** y el eje $y$ fue elegido para concordar con ésta. Para juntar ambas ecuaciones definimos un objeto $\\vec{r}$ como un vector $\\vec{r}(t) = (x(t), y(t))$ en todo tiempo $t$. Es decir, una función vectorial. En este caso, el estado inicial se resume también como vectores:\n",
        "* Posición inicial: $r_0 = (x_0, y_0)$\n",
        "* Velocidad inicial: $v_0 = (v_{x_0}, v_{y_0})$\n",
        "* Estado total inicial: $(r_0, v_0)$\n",
        "\n",
        "\n",
        "**Planteamiento del problema a resolver**\n",
        "\n",
        "A continuación se presentan tres puntos a tratar en el proyecto: El inciso 1 describe algo que es **OBLIGATORIO** que exista en el programa de todos los participantes. El inciso 2 describe una lista de posibles tareas de las cuales cada integrante debe elegir al menos una y programarla (La evaluación va a ser individual aunque pueden compartir ideas entre su propio grupo). Además, pueden añadir a su creatividad tareas similares: La única penintencia es no ser creativos. La creatividad sobresalientee incluso se premiará.\n",
        "\n",
        "El inciso 3 contiene una lista de problemas retadores completamente OPCIONALES pero los grupos que logren hacer al menos alguno de ellos serán recompensados con mayor peso de votación en decidir el proyecto final. \n",
        "\n",
        "1. Cree funciones para todos los objetos fundamentales: $x(t)$, $y(t)$, $\\vec{r}(t)$.\n",
        "2. Crear alguna función que responda una o más de preguntas como las siguientes (al menos una por integrante):\n",
        "   * ¿En qué tiempo $t$ una pelota (definida por su estado inicial $(r_0, v_0)$) cae al suelo? ¿Qué tal si lo que queremos es que caiga sobre una repisa de altura $h$?\n",
        "   * Escriba una función que calcule la velocidad del proyectil en todo tiempo y devuelva el porcentaje que esa velocidad representa respecto a la velocidad inicial $v_0$.\n",
        "   * ¿Cuál es la altura máxima que alcanza la pelota? ¿En qué tiempo la alcanzó?\n",
        "   * ¿A qué ángulo $\\theta$ debemos colocar el cañón (situado en el origen $(0,0)$) para que la bala destruya el castillo enemigo en un punto $(p_x, p_y)$ y dimensiones $h \\times w$?\n",
        "   * Si un jugador de baseball quiere agarrar la pelota antes de que caiga al suelo ¿Cuándo debe empezar a correr? Asumiendo que comienza en el suelo, unos $m$ metros adelante de la pelota, y quieto. Es decir: $r_0 = (x_0 + m, 0)$ y $v_0 = (0,0)$.\n",
        "   * ¿Qué pasa si la aceleración ahora cambia en el tiempo, $a(t)$? Por ejemplo, en algún marco de referencia mientras un acensor de mueve.\n",
        "   * Si conoce el punto y tiempo de disparo del proyectil y punto y tiempo de caída al suelo, ¿Puede encontrar la velocidad inicial $v_0 = (v_{x_0}, v_{y_0})$ con la cual fue disparado? Si es así, programelo. Si no, indique lo que hace falta, y utilícelo para un programa que lo calcule.\n",
        "   * Si la gravedad no estuviese alineada con el eje $y$, si no que en cualquier otra dirección, calcule la trayectoria.\n",
        "   * Cualquier otra aplicación suficientemente creativa...\n",
        "3. **Challenge problems:** Los integrantes del grupo que presenten la mejor solución a alguno de estos problemas ganará un punto más en su votación hacia el tercer proyecto. \"Resolver el problema\" significa crear un programa .py o un Jupyter notebook que muestre la solución a alguno de los siguientes problemas:\n",
        "   * (**MATEMÁTICAS**) El ángulo al cual un cañón puede disparar en contra de una fortaleza a una distancia de $m$ metros oscila entre $0$ y $\\pi/2$ radianes. Imagine que el cañón dispara aleatoriamente acorde a una distribución normal (con media $\\mu$ y desviación estándar $\\sigma$ ingresadas por el usuario) truncada al intervalo $[0, \\pi/2]$ (ver [este post][1]). \n",
        "     ¿Cuál es la altura $h$ óptima a la cual usted debe colocarse en la fortaleza para minizar la probabilidad de ser golpeado? ¿Hay varias soluciones $h$? ¿Bajo qué condiciones?\n",
        "     \n",
        "   * (**COMPUTACIÓN**) Un vecino de su cuadra se ha inventado un cohete espacial que parece desafiar las leyes de la física. Este cohete se dispara como un proyectil (con trayectoria $r_1(t)$) desde el suelo con alguna velocidad inicial, pero luego de cierto tiempo $t_1$ de estar volando, se abre y dispara un segundo cohete más pequeño, al cual comienza a volar como proyectil como si su suelo fuese el punto $r_1(t_1)$. \n",
        "     \n",
        "     Este segundo proyectil, con trayectoria $r_2(t)$ vuela de nuevo hasta un tiempo $t_2 > t_1$ y deja salir un tercer cohete. Esto se repite $n$ veces con $n$ ingresado por el usuario. Programe una función recursiva que devuelva la posición del último cohete en cualquier tiempo $t$ y describa su complejidad algorítmica $\\mathcal{O}(f(n))$.\n",
        "     \n",
        "   * (**MATEMÁTICAS**) Imagine que le dan una trayectoria fija $r_1(t) = (x_1(t), y_1(t))$ de un proyectil y una altura fija $y_{\\text{fija}}$. Construya una función que devuelva otra trayectoria $r_2(t)$ con distancia horizontal inicial $x_0 = x_1(0)$ y altura inicial $y_{\\text{fija}}$ tal que exista un tiempo $t_{\\text{col}}$ en que ambos proyectiles colisionen.\n",
        "   \n",
        "   * (**FÍSICA**) Programe su tarea selecta del inciso 2 utilizando arrástre lineal y cuadrático y en n dimensiones, con n ingresado por el usuario.\n",
        "   \n",
        "   \n",
        "\n",
        "\n",
        "[1]: https://en.wikipedia.org/wiki/Truncated_normal_distribution#Definitions"
      ]
    },
    {
      "cell_type": "markdown",
      "metadata": {
        "id": "_BEnzlCCbEYH",
        "colab_type": "text"
      },
      "source": [
        "**A partir de aqui se va a empezar el codigo, cada quien debe subir la solución de su problema y especificar el nombre antes del código:** "
      ]
    },
    {
      "cell_type": "markdown",
      "metadata": {
        "id": "iEvYyqG2b9Qa",
        "colab_type": "text"
      },
      "source": [
        "Allan Enrique Pineda, a partir de aquí mi solución:"
      ]
    },
    {
      "cell_type": "code",
      "metadata": {
        "id": "sKbD8dsRcNmp",
        "colab_type": "code",
        "colab": {}
      },
      "source": [
        "# Aqui va mi código:"
      ],
      "execution_count": null,
      "outputs": []
    },
    {
      "cell_type": "markdown",
      "metadata": {
        "id": "PwwojkCBcTOx",
        "colab_type": "text"
      },
      "source": [
        "SU NOMBRE, A PARTIR DE AQUI VA SU CODIGO:"
      ]
    },
    {
      "cell_type": "code",
      "metadata": {
        "id": "GiZK3ur0cavJ",
        "colab_type": "code",
        "colab": {}
      },
      "source": [
        "# Aqui va su codigo"
      ],
      "execution_count": null,
      "outputs": []
    }
  ]
}